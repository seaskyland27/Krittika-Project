{
  "nbformat": 4,
  "nbformat_minor": 0,
  "metadata": {
    "colab": {
      "name": "CAB_Problem_Statement.ipynb",
      "provenance": [],
      "collapsed_sections": []
    },
    "kernelspec": {
      "name": "python3",
      "display_name": "Python 3"
    },
    "language_info": {
      "name": "python"
    }
  },
  "cells": [
    {
      "cell_type": "markdown",
      "source": [
        "# **Question 1 : Visualizing Pleiades cluster**\n",
        "\n",
        "Our beloved astronomy club, Krittika, is named after one of the most conspicuous star cluster in the sky, Pleiades. The CSV file stardata.csv\n",
        "contains four columns of data, which contain the following data for 196 stars in the cluster:\n",
        "\n",
        "\n",
        "*   Column 1: RA of each star in degrees\n",
        "*   Column 2: Declination of each star in degrees\n",
        "*   Column 3: Parallax of each star in milliarcseconds (mas)\n",
        "*   Column 4: Apparent Magnitude of the star\n",
        "\n",
        "\n",
        "Parallax $p$ of a star is directly related to its distance $d$ as $d$ in parsecs $= \\frac{1}{p}$ where parallax is in arcseconds.\n",
        "\n",
        "Before proceeding, you need to be able to read the csv file contents, and since the assignment involves graphs, you might want to import some things as well:"
      ],
      "metadata": {
        "id": "6jprQ7IFBY9b"
      }
    },
    {
      "cell_type": "code",
      "source": [
        "#put your import statements here\n",
        "#use one of the imported libraries to read the contents of csv file in a neat form\n",
        "import pandas as pd\n",
        "import matplotlib.pyplot as plt\n",
        "import numpy as np  \n",
        "from csv import reader\n",
        "from decimal import Decimal\n",
        "\n",
        "with open('stardata.csv', 'r') as read_obj:\n",
        "    # pass the file object to reader() to get the reader object\n",
        "    csv_reader = reader(read_obj)\n",
        "    # Pass reader object to list() to get a list of lists\n",
        "    star = list(csv_reader)\n",
        "\n",
        "      \n"
      ],
      "metadata": {
        "id": "wFuuIRbqCIRL",
        "colab": {
          "base_uri": "https://localhost:8080/"
        },
        "outputId": "af67a46c-a502-4009-efcd-0a1e3758ffb7"
      },
      "execution_count": 11,
      "outputs": [
        {
          "output_type": "stream",
          "name": "stdout",
          "text": [
            "['56.56677416', '24.18973453', '7.393535266', '8.208464']\n"
          ]
        }
      ]
    },
    {
      "cell_type": "markdown",
      "source": [
        "A little background on magnitude of a star:\n",
        "\n",
        "Magnitudes in Astronomy are a way to describe how bright an object (in our case, a star) is:\n",
        "\n",
        "**Apparent magnitude**: Apparent magnitude ($m$) is a measure of the brightness of a star or any other astronomical object observed from the earth. It is similar to the decibel system for sound in that magnitudes are logarithmic and can be calculated according to the formula\n",
        "$$m = -2.5 \\log  { \\left ( \\dfrac{F}{F_0} \\right )} $$\n",
        "where $F$ is the flux from the star (measured in $W/m^2$), and $F_0$ is a reference flux. \n",
        "\n",
        "We can calculate the flux of a star at some distance $d$ away as\n",
        "$$F = \\dfrac{L}{4 \\pi d^2}$$\n",
        "\n",
        "where $L$ is the Luminosity of the star (measured in W).\n",
        "\n",
        "**Absolute magnitude**: It is the magnitude of the star at a distance of 10 pc, and is related to the apparent magnitude by (and try to see if you can derive this):\n",
        "$$m-M = -5 + 5\\log_{10}(d)$$\n",
        "where $M$ is the absolute magnitude and $d$ is the distance of the star from us in parsecs (pc).\n",
        "To read up more about magnitudes, hit up this Wikipedia article - https://en.wikipedia.org/wiki/Magnitude_(astronomy%29.\n",
        "\n",
        "Using the above info and the earlier relation of distance and parallax, use the imported libraries to find the absolute magnitudes of all the stars of the csv file, and plot a histogram of the distribution, with 50 bins."
      ],
      "metadata": {
        "id": "tRub3yySCcbd"
      }
    },
    {
      "cell_type": "code",
      "source": [
        "M=[]\n",
        "\n",
        "for x in star:\n",
        "  \n",
        " \n",
        "  if(x[2]==\"--\"):\n",
        "     M.append(\"not defined\")\n",
        "\n",
        "  else:\n",
        "     \n",
        "     M.append(float(x[3])+5-5*np.log10(1/float(x[2])))\n",
        "\n",
        "plt.hist(M,bins=50)\n"
      ],
      "metadata": {
        "id": "kJpsPXK6sMZp",
        "colab": {
          "base_uri": "https://localhost:8080/",
          "height": 456
        },
        "outputId": "51ec73ad-534e-43fb-e489-448679204e19"
      },
      "execution_count": 30,
      "outputs": [
        {
          "output_type": "execute_result",
          "data": {
            "text/plain": [
              "(array([4., 4., 4., 4., 4., 4., 4., 4., 4., 4., 4., 4., 3., 4., 4., 7., 4.,\n",
              "        4., 4., 4., 4., 4., 4., 4., 3., 4., 4., 4., 4., 4., 4., 4., 4., 4.,\n",
              "        4., 4., 4., 3., 4., 4., 4., 4., 4., 4., 4., 4., 4., 4., 4., 4.]),\n",
              " array([  0.  ,   3.92,   7.84,  11.76,  15.68,  19.6 ,  23.52,  27.44,\n",
              "         31.36,  35.28,  39.2 ,  43.12,  47.04,  50.96,  54.88,  58.8 ,\n",
              "         62.72,  66.64,  70.56,  74.48,  78.4 ,  82.32,  86.24,  90.16,\n",
              "         94.08,  98.  , 101.92, 105.84, 109.76, 113.68, 117.6 , 121.52,\n",
              "        125.44, 129.36, 133.28, 137.2 , 141.12, 145.04, 148.96, 152.88,\n",
              "        156.8 , 160.72, 164.64, 168.56, 172.48, 176.4 , 180.32, 184.24,\n",
              "        188.16, 192.08, 196.  ]),\n",
              " <a list of 50 Patch objects>)"
            ]
          },
          "metadata": {},
          "execution_count": 30
        },
        {
          "output_type": "display_data",
          "data": {
            "text/plain": [
              "<Figure size 432x288 with 1 Axes>"
            ],
            "image/png": "[encoded data removed]"
          },
          "metadata": {
            "needs_background": "light"
          }
        }
      ]
    },
    {
      "cell_type": "markdown",
      "source": [
        "A good way to visualize the actual star cluster as it appears to us in the night sky would be to make a scatter plot of declination and RA on the $y$ and $x$ axes respectively. Try plotting the stars such that the star appears bigger if it is brighter. One way to do this is to make the size of dots in scatter plot proportional to (12 - apparent magnitude) of the star.\n",
        "\n",
        "(Hint: Google how to make a scatter plot with variable size of dots.)\n",
        "\n",
        "If you can't make a plot with variable dot sizes, make a simple plot with all dots of same size."
      ],
      "metadata": {
        "id": "GafdlK2-sinu"
      }
    },
    {
      "cell_type": "code",
      "source": [
        "s = [5*(12-float(star[n][3]))for n in range(len(star))]\n",
        "X=[]\n",
        "Y=[]\n",
        "for x in star:\n",
        "  X.append(float(x[0]))\n",
        "  Y.append(float(x[1]))\n",
        "\n",
        "plt.scatter(X,Y,s)\n",
        "\n",
        "plt.xlim(55.5, 58)\n",
        "plt.ylim(23,25.2)\n",
        "plt.title('Visualizing the star cluster')\n",
        "plt.xlabel('RA')\n",
        "plt.ylabel('Declination')"
      ],
      "metadata": {
        "id": "JUu_c0zU6vFF",
        "colab": {
          "base_uri": "https://localhost:8080/",
          "height": 312
        },
        "outputId": "720fc891-43d8-45dc-90c1-f05184e27c3d"
      },
      "execution_count": 58,
      "outputs": [
        {
          "output_type": "execute_result",
          "data": {
            "text/plain": [
              "Text(0, 0.5, 'Declination')"
            ]
          },
          "metadata": {},
          "execution_count": 58
        },
        {
          "output_type": "display_data",
          "data": {
            "text/plain": [
              "<Figure size 432x288 with 1 Axes>"
            ],
            "image/png": "[encoded data removed]"
          },
          "metadata": {
            "needs_background": "light"
          }
        }
      ]
    },
    {
      "cell_type": "markdown",
      "source": [
        "# **Question 2 : Estimating Age of Universe using Hubble's Law**\n",
        "\n",
        "In this problem, we will use Hubble's Law on a large number of galaxies, and fit the data to a linear model to find the value of the Hubble Constant, which we will use to calculate the current age of the universe.\n",
        "\n",
        "You can learn more about Hubble's Law, a very important principle of cosmology and expansion of Universe over here - https://simple.m.wikipedia.org/wiki/Hubble%27s_law \n",
        "\n",
        "Step 0: Importing libraries\n",
        "\n",
        "Dump all the required libraries, and define any necessary constants in the code box below.\n",
        "\n",
        "You will require the optimize module of scipy library, so be sure to include a line saying `from scipy.optimize import curve_fit`."
      ],
      "metadata": {
        "id": "L2gMlFIy7Ucq"
      }
    },
    {
      "cell_type": "code",
      "source": [
        "from scipy.optimize import curve_fit as cf"
      ],
      "metadata": {
        "id": "DTpOG9Fr70Nc"
      },
      "execution_count": null,
      "outputs": []
    },
    {
      "cell_type": "markdown",
      "source": [
        "Step 2: Loading the data\n",
        "\n",
        "Open the file \"data.txt\" and store it in array(s). First row contains the distance modulus (https://en.m.wikipedia.org/wiki/Distance_modulus) of the galaxy from earth, second row contains the line of sight velocity in km/s.\n",
        "\n",
        "To convert distance modulus to distance in Megaparsecs (the unit we will be using in the rest of the question), use the formula:\n",
        "\n",
        "$d = 10^{\\left(\\frac{d_{dist mod}}{5} - 5\\right)}$\n",
        "\n",
        "where $d$ is in megaparsecs (Mpc)."
      ],
      "metadata": {
        "id": "b_Fes9_P78i_"
      }
    },
    {
      "cell_type": "code",
      "source": [
        "File_data = np.loadtxt(\"data.txt\",skiprows=1,delimiter=',', dtype=str)\n",
        "distance=[]\n",
        "velocity=[]\n",
        "for i in range(len(File_data)):\n",
        "  distance.append(float(Decimal(File_data[i][0])))\n",
        "  velocity.append(float(Decimal(File_data[i][1])))\n",
        "realdistance=[]\n",
        "for i in range(len(distance)):\n",
        "  realdistance.append(10**((distance[i]/5)-5)) \n"
      ],
      "metadata": {
        "id": "itgR16OO8jTb"
      },
      "execution_count": 70,
      "outputs": []
    },
    {
      "cell_type": "markdown",
      "source": [
        "Step 3: Preliminary Data Visualization\n",
        "\n",
        "Create a function taking the distance to the galaxy, and a slope and an intercept parameter as input, returning recession velocity of that galaxy as output. A code snippet showing how to use curve_fit to find the optimum slope and intercept is shown here - https://github.com/krittikaiitb/tutorials/blob/master/Tutorial_07/SciPy1.ipynb \n",
        "\n",
        "Create a scatter plot of the line of sight velocity of the galaxies (in km/s) vs the distance to the galaxies (in Mpc). Also plot the model you just fit in the same graph."
      ],
      "metadata": {
        "id": "v8n0_bmv8rBu"
      }
    },
    {
      "cell_type": "code",
      "source": [
        "def lin_func(x,m,c):\n",
        "    return m*x + c\n",
        "\n",
        "x = np.array(realdistance)\n",
        "y = velocity\n",
        "plt.scatter(realdistance,velocity,s=1)\n",
        "params, covs = cf(lin_func, x, y)\n",
        "\n",
        "params, _ = cf(lin_func, x, y)\n",
        "\n",
        "a, b = params[0], params[1]\n",
        "yfit1 = a*x+b\n",
        "plt.plot(x, yfit1, label=\"y=m*x+c\")\n",
        "plt.xlabel('distance to the galaxy')\n",
        "plt.ylabel('recession velocity of the galaxy')\n"
      ],
      "metadata": {
        "id": "PYqutdHI8yB6",
        "colab": {
          "base_uri": "https://localhost:8080/",
          "height": 296
        },
        "outputId": "5e10f2bc-e184-4f67-cde1-31b06797bd2c"
      },
      "execution_count": 81,
      "outputs": [
        {
          "output_type": "execute_result",
          "data": {
            "text/plain": [
              "Text(0, 0.5, 'recession velocity of the galaxy')"
            ]
          },
          "metadata": {},
          "execution_count": 81
        },
        {
          "output_type": "display_data",
          "data": {
            "text/plain": [
              "<Figure size 432x288 with 1 Axes>"
            ],
            "image/png": "[encoded data removed]"
          },
          "metadata": {
            "needs_background": "light"
          }
        }
      ]
    },
    {
      "cell_type": "markdown",
      "source": [
        "Step 4: Removing Outliers (OPTIONAL)\n",
        "\n",
        "As you can see, there are many points on the outskirts of the graph, which may affect out calulations of the slope and intercept unduly. Devise a way to remove those outliers to your satisfaction, and replot the remaining data points. There are multiple ways to do this, a few of them could be:\n",
        "\n",
        "1. Removing all points whose distances are 3$\\times$(Standard Deviation of Distance from Earth) away from the Mean Distance of all input galaxies from Earth. (or take any factor other than 3)\n",
        "\n",
        "2. Removing all points which are a certain distance away from the best fit line initially calculated (decide yourself what to set this distance as, could be a factor of the mean distance from the line for all points)."
      ],
      "metadata": {
        "id": "osng2Pxi84rx"
      }
    },
    {
      "cell_type": "code",
      "source": [
        "#Remove outliers and replot the improved data"
      ],
      "metadata": {
        "id": "0-RxWO9g9Lzd"
      },
      "execution_count": null,
      "outputs": []
    },
    {
      "cell_type": "markdown",
      "source": [
        "Step 5: Conclusion\n",
        "\n",
        "The slope of the graph (with recessional velocity in the y-axis and distance of the galaxy in the x-axis) gives us the Hubble Constant $H_0$ (in units km/s-Mpc). The reciprocal of the Hubble Constant is a good approximation for the age of the universe. Hence, find the age of the universe using your calculations."
      ],
      "metadata": {
        "id": "y0PXYi3V9QF0"
      }
    },
    {
      "cell_type": "code",
      "source": [
        "print(\"The age of the universe is: \",(1/a)*3.08*10**(19),\"seconds which is approximately 13.4 billion years! \")"
      ],
      "metadata": {
        "id": "2u9oHjvS9gZf",
        "colab": {
          "base_uri": "https://localhost:8080/"
        },
        "outputId": "9a88889a-0478-4c6a-f6f9-567777b38dd1"
      },
      "execution_count": 88,
      "outputs": [
        {
          "output_type": "stream",
          "name": "stdout",
          "text": [
            "The age of the universe is:  4.8901593104281645e+17 seconds which is approximately 13.4 billion years! \n"
          ]
        }
      ]
    }
  ]
}